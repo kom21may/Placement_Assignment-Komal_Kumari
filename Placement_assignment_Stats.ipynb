{
  "cells": [
    {
      "cell_type": "markdown",
      "id": "ecfee048",
      "metadata": {
        "id": "ecfee048"
      },
      "source": [
        "# Q-1. \n",
        "    A university wants to understand the relationship between the SAT scores of its\n",
        "    applicants and their college GPA. They collect data on 500 students, including their SAT\n",
        "    scores (out of 1600) and their college GPA (on a 4.0 scale). They find that the correlation\n",
        "    coefficient between SAT scores and college GPA is 0.7. What does this correlation\n",
        "    coefficient indicate about the relationship between SAT scores and college GPA?"
      ]
    },
    {
      "cell_type": "markdown",
      "id": "3050de12",
      "metadata": {
        "id": "3050de12"
      },
      "source": [
        "The correlation coefficient of 0.7 indicates a strong positive relationship between SAT scores and college GPA. A correlation coefficient ranges from -1 to +1, with 0 indicating no correlation, -1 indicating a perfect negative correlation, and +1 indicating a perfect positive correlation.\n",
        "\n",
        "In this case, the correlation coefficient of 0.7 suggests that there is a strong positive linear relationship between SAT scores and college GPA. This means that as SAT scores increase, college GPA tends to increase as well. However, it's important to note that SAT scores doesn't directly cause higher college GPAs. There may be other factors or variables involved that influence both SAT scores and college performance."
      ]
    },
    {
      "cell_type": "markdown",
      "id": "50ef099c",
      "metadata": {
        "id": "50ef099c"
      },
      "source": [
        "# Q-2. \n",
        "    Consider a dataset containing the heights (in centimeters) of 1000 individuals. The\n",
        "    mean height is 170 cm with a standard deviation of 10 cm. The dataset is approximately\n",
        "    normally distributed, and its skewness is approximately zero. Based on this information,\n",
        "    answer the following questions:\n",
        "\n",
        "    a. What percentage of individuals in the dataset have heights between 160 cm\n",
        "    and 180 cm?"
      ]
    },
    {
      "cell_type": "markdown",
      "id": "a4beac10",
      "metadata": {
        "id": "a4beac10"
      },
      "source": [
        "The dataset is approximately normally distributed with a mean height of 170 cm and a standard deviation of 10 cm, we can use the empirical rule (also known as the 68-95-99.7 rule) to estimate the percentage of individuals within a specific range.\n",
        "\n",
        "According to the empirical rule:\n",
        "\n",
        "Approximately 68% of the data falls within one standard deviation of the mean.\n",
        "\n",
        "Approximately 95% of the data falls within two standard deviations of the mean.\n",
        "\n",
        "Approximately 99.7% of the data falls within three standard deviations of the mean.\n",
        "\n",
        "In this case, the range we are interested in is from 160 cm to 180 cm, which is within one standard deviation of the mean. So, based on the empirical rule, we can estimate that approximately 68% of individuals in the dataset have heights between 160 cm and 180 cm."
      ]
    },
    {
      "cell_type": "markdown",
      "id": "a0f0c1ae",
      "metadata": {
        "id": "a0f0c1ae"
      },
      "source": [
        "b. If we randomly select 100 individuals from the dataset, what is the probability\n",
        "that their average height is greater than 175 cm?"
      ]
    },
    {
      "cell_type": "markdown",
      "id": "8faed878",
      "metadata": {
        "id": "8faed878"
      },
      "source": [
        "Given n=100, stdev=10cm,mu=170cm, x=175cm\n",
        "\n",
        "we can calculate the z score for this\n",
        "se=stdev/sqrt(n)=10/sqrt(100)=1cm\n",
        "\n",
        "so z=(sample mean - population mean) / standard error.\n",
        "z_score=175-170/1=5\n",
        "\n",
        "So we got positive z_score we can check the right z-score table\n",
        "and in that it is very close to 1 i.e 100% \n",
        "There is a probability of 100% that their average height is greater than 175 cm"
      ]
    },
    {
      "cell_type": "markdown",
      "id": "85b2716d",
      "metadata": {
        "id": "85b2716d"
      },
      "source": [
        "c. Assuming the dataset follows a normal distribution, what is the z-score\n",
        "corresponding to a height of 185 cm?\n",
        "\n",
        "we can calculate the z score for this:\n",
        "z = (x - μ) / σ\n",
        "\n",
        "where z is the z-score, x is the height value, μ is the mean height, and σ is the standard deviation.\n",
        "\n",
        "z_score=185-170/10=1.5\n",
        "\n",
        "z_score=1.5(we can check the probability according to postive z_table)\n"
      ]
    },
    {
      "cell_type": "markdown",
      "id": "7305eb1a",
      "metadata": {
        "id": "7305eb1a"
      },
      "source": [
        "d. We know that 5% of the dataset has heights below a certain value. What is\n",
        "the approximate height corresponding to this threshold?\n",
        "\n",
        "we can use the z-score associated with the 5th percentile of a standard normal distribution.\n",
        "\n",
        "The 5th percentile corresponds to a z-score of -1.645.\n",
        "\n",
        "x = μ + (z * σ),\n",
        "\n",
        "where x is the height value, μ is the mean height, z is the z-score, and σ is the standard deviation.\n",
        "\n",
        "In this case:\n",
        "\n",
        "μ = 170 cm,\n",
        "z = -1.645,\n",
        "σ = 10 cm.\n",
        "\n",
        "so x=170+(-1.645*10)=153.55\n",
        "\n",
        "Therefore, the approximate height corresponding to the threshold below which 5% of the dataset falls is approximately 153.55 cm.\n"
      ]
    },
    {
      "cell_type": "markdown",
      "id": "d7c2a616",
      "metadata": {
        "id": "d7c2a616"
      },
      "source": [
        "e. Calculate the coefficient of variation (CV) for the dataset."
      ]
    },
    {
      "cell_type": "markdown",
      "id": "5e1ae96d",
      "metadata": {
        "id": "5e1ae96d"
      },
      "source": [
        "coefficient of variation (CV) is a measure of relative variability and is calculated as the ratio of the standard deviation to the mean, expressed as a percentage.\n",
        "\n",
        "To calculate the coefficient of variation for the dataset with a mean height of 170 cm and a standard deviation of 10 cm, we can use the following formula:\n",
        "\n",
        "CV = (standard deviation / mean) * 100.\n",
        "\n",
        "In this case:\n",
        "\n",
        "Standard deviation = 10 cm,\n",
        "Mean = 170 cm.\n",
        "\n",
        "Plugging in these values into the formula, we get:\n",
        "\n",
        "CV = (10 cm / 170 cm) * 100 ≈ 5.88%.\n",
        "\n",
        "Therefore, the coefficient of variation for the dataset is approximately 5.88%."
      ]
    },
    {
      "cell_type": "markdown",
      "id": "4bc3d035",
      "metadata": {
        "id": "4bc3d035"
      },
      "source": [
        "f. Calculate the skewness of the dataset and interpret the result.\n",
        "\n",
        "Given that the dataset is approximately normally distributed with a skewness close to zero, we can assume that the mean and median are approximately equal.\n",
        "\n",
        "In this case:\n",
        "Mean = 170 cm (as given)\n",
        "Median ≈ 170 cm (assuming approximate symmetry)\n",
        "\n",
        "Skewness = (3 * (Mean - Median)) / Standard Deviation\n",
        "= (3 * (170 cm - 170 cm)) / 10 cm\n",
        "= 0.\n",
        "\n",
        "the dataset of heights is approximately normally distributed and exhibits a symmetric distribution without any notable skewness."
      ]
    },
    {
      "cell_type": "markdown",
      "source": [],
      "metadata": {
        "id": "SBsng-ae3ruW"
      },
      "id": "SBsng-ae3ruW"
    },
    {
      "cell_type": "markdown",
      "id": "72e64721",
      "metadata": {
        "id": "72e64721"
      },
      "source": [
        "# Q-4. \n",
        "    A group of 20 friends decide to play a game in which they each write a number\n",
        "    between 1 and 20 on a slip of paper and put it into a hat. They then draw one slip of paper\n",
        "    at random. What is the probability that the number on the slip of paper is a perfect square\n",
        "    (i.e., 1, 4, 9, or 16)?"
      ]
    },
    {
      "cell_type": "markdown",
      "id": "a7e302e9",
      "metadata": {
        "id": "a7e302e9"
      },
      "source": [
        "Total number of outcome=20\n",
        "Total number of favourable outcome=4->(1,4,9,16)\n",
        "probability that the number on the slip of paper is a perfect square=4/20=1/5=0.2\n",
        "\n",
        "20% probability that the number on the slip of paper is a perfect square"
      ]
    },
    {
      "cell_type": "markdown",
      "id": "205d83d1",
      "metadata": {
        "id": "205d83d1"
      },
      "source": [
        "# Q-5. \n",
        "    A certain city has two taxi companies: Company A has 80% of the taxis and\n",
        "    Company B has 20% of the taxis. Company A's taxis have a 95% success rate for picking\n",
        "    up passengers on time, while Company B's taxis have a 90% success rate. If a randomly\n",
        "    selected taxi is late, what is the probability that it belongs to Company A?"
      ]
    },
    {
      "cell_type": "markdown",
      "id": "deea1da6",
      "metadata": {
        "id": "deea1da6"
      },
      "source": [
        "Let's denote:\n",
        "A: Event that the taxi belongs to Company A.\n",
        "L: Event that the taxi is late.\n",
        "\n",
        "We need to solve P(A|L)=P(L|A)*P(A)/P(L)\n",
        "\n",
        "P(A)=0.8 P(B)=0.2\n",
        "P(L|A)=0.05\n",
        "P(L|B)=0.1\n",
        "P(L)=P(L|A)*P(A)+P(L|B)*P(B)\n",
        " \n",
        " = 0.05*0.8+0.1*0.2\n",
        " = 0.06\n",
        " \n",
        " therefore \n",
        " P(A|L)=P(L|A)*P(A)/P(L)\n",
        " \n",
        " = 0.05*0.8/0.06\n",
        " = 0.6667\n",
        " \n",
        " 66.67% probability is there for comapny A to be Late"
      ]
    },
    {
      "cell_type": "markdown",
      "id": "afe022d1",
      "metadata": {
        "id": "afe022d1"
      },
      "source": [
        "# Q-6. \n",
        "    A pharmaceutical company is developing a drug that is supposed to reduce blood\n",
        "    pressure. They conduct a clinical trial with 100 patients and record their blood\n",
        "    pressure before and after taking the drug. The company wants to know if the change\n",
        "    in blood pressure follows a normal distribution.\n",
        "\n",
        "https://drive.google.com/file/d/1mCjtYHiX--mMUjicuaP2gH3k-SnFxt8Y/view?usp=share_"
      ]
    },
    {
      "cell_type": "code",
      "execution_count": null,
      "id": "1ec9886e",
      "metadata": {
        "id": "1ec9886e"
      },
      "outputs": [],
      "source": [
        "import pandas as pd\n",
        "df_6=pd.read_csv('data.csv')"
      ]
    },
    {
      "cell_type": "code",
      "execution_count": null,
      "id": "7d5789ca",
      "metadata": {
        "id": "7d5789ca",
        "outputId": "8160bc88-3061-45da-aacd-1fef97add5e5"
      },
      "outputs": [
        {
          "data": {
            "text/html": [
              "<div>\n",
              "<style scoped>\n",
              "    .dataframe tbody tr th:only-of-type {\n",
              "        vertical-align: middle;\n",
              "    }\n",
              "\n",
              "    .dataframe tbody tr th {\n",
              "        vertical-align: top;\n",
              "    }\n",
              "\n",
              "    .dataframe thead th {\n",
              "        text-align: right;\n",
              "    }\n",
              "</style>\n",
              "<table border=\"1\" class=\"dataframe\">\n",
              "  <thead>\n",
              "    <tr style=\"text-align: right;\">\n",
              "      <th></th>\n",
              "      <th>Patient ID</th>\n",
              "      <th>Blood Pressure Before (mmHg)</th>\n",
              "      <th>Blood Pressure After (mmHg)</th>\n",
              "    </tr>\n",
              "  </thead>\n",
              "  <tbody>\n",
              "    <tr>\n",
              "      <th>0</th>\n",
              "      <td>1</td>\n",
              "      <td>130</td>\n",
              "      <td>120</td>\n",
              "    </tr>\n",
              "    <tr>\n",
              "      <th>1</th>\n",
              "      <td>2</td>\n",
              "      <td>142</td>\n",
              "      <td>135</td>\n",
              "    </tr>\n",
              "    <tr>\n",
              "      <th>2</th>\n",
              "      <td>3</td>\n",
              "      <td>120</td>\n",
              "      <td>118</td>\n",
              "    </tr>\n",
              "    <tr>\n",
              "      <th>3</th>\n",
              "      <td>4</td>\n",
              "      <td>135</td>\n",
              "      <td>127</td>\n",
              "    </tr>\n",
              "    <tr>\n",
              "      <th>4</th>\n",
              "      <td>5</td>\n",
              "      <td>148</td>\n",
              "      <td>140</td>\n",
              "    </tr>\n",
              "  </tbody>\n",
              "</table>\n",
              "</div>"
            ],
            "text/plain": [
              "   Patient ID   Blood Pressure Before (mmHg)   Blood Pressure After (mmHg)\n",
              "0           1                            130                           120\n",
              "1           2                            142                           135\n",
              "2           3                            120                           118\n",
              "3           4                            135                           127\n",
              "4           5                            148                           140"
            ]
          },
          "execution_count": 4,
          "metadata": {},
          "output_type": "execute_result"
        }
      ],
      "source": [
        "df_6.head()"
      ]
    },
    {
      "cell_type": "code",
      "execution_count": null,
      "id": "71d304fe",
      "metadata": {
        "id": "71d304fe",
        "outputId": "2ca83b69-14c3-46ab-d920-5bc3b16e4f68"
      },
      "outputs": [
        {
          "data": {
            "text/plain": [
              "Index(['Patient ID', ' Blood Pressure Before (mmHg)',\n",
              "       ' Blood Pressure After (mmHg)'],\n",
              "      dtype='object')"
            ]
          },
          "execution_count": 8,
          "metadata": {},
          "output_type": "execute_result"
        }
      ],
      "source": [
        "df_6.columns"
      ]
    },
    {
      "cell_type": "code",
      "execution_count": null,
      "id": "69f45b42",
      "metadata": {
        "id": "69f45b42"
      },
      "outputs": [],
      "source": [
        "import numpy as np"
      ]
    },
    {
      "cell_type": "code",
      "execution_count": null,
      "id": "94ac4cbc",
      "metadata": {
        "id": "94ac4cbc"
      },
      "outputs": [],
      "source": [
        "before_mean=np.mean(df_6[' Blood Pressure Before (mmHg)'])"
      ]
    },
    {
      "cell_type": "code",
      "execution_count": null,
      "id": "961dc81c",
      "metadata": {
        "id": "961dc81c"
      },
      "outputs": [],
      "source": [
        "before_std=df_6[' Blood Pressure Before (mmHg)'].std(axis=0)"
      ]
    },
    {
      "cell_type": "code",
      "execution_count": null,
      "id": "0acd8dd4",
      "metadata": {
        "id": "0acd8dd4",
        "outputId": "fc2dc634-1d48-4114-92e7-151bfc155577"
      },
      "outputs": [
        {
          "data": {
            "text/plain": [
              "128.36"
            ]
          },
          "execution_count": 22,
          "metadata": {},
          "output_type": "execute_result"
        }
      ],
      "source": [
        "After_mean=np.mean(df_6[' Blood Pressure After (mmHg)'])\n",
        "After_mean"
      ]
    },
    {
      "cell_type": "code",
      "execution_count": null,
      "id": "77567a6e",
      "metadata": {
        "id": "77567a6e",
        "outputId": "66b8d5eb-cad4-4d1a-c1ff-1ef5f510ddc2"
      },
      "outputs": [
        {
          "data": {
            "text/plain": [
              "6.888022102523226"
            ]
          },
          "execution_count": 23,
          "metadata": {},
          "output_type": "execute_result"
        }
      ],
      "source": [
        "After_std=df_6[' Blood Pressure After (mmHg)'].std(axis=0)\n",
        "After_std"
      ]
    },
    {
      "cell_type": "code",
      "execution_count": null,
      "id": "ad78968f",
      "metadata": {
        "id": "ad78968f"
      },
      "outputs": [],
      "source": [
        "Before_median=df_6[' Blood Pressure Before (mmHg)'].median()"
      ]
    },
    {
      "cell_type": "markdown",
      "id": "5fe52590",
      "metadata": {
        "id": "5fe52590"
      },
      "source": [
        "A skewness value of 0 indicates a perfectly symmetrical distribution. Positive skewness values indicate right-skewed distributions, with the tail on the right side, while negative skewness values indicate left-skewed distributions, with the tail on the left side."
      ]
    },
    {
      "cell_type": "code",
      "execution_count": null,
      "id": "2fa509e0",
      "metadata": {
        "id": "2fa509e0",
        "outputId": "08aa6cb4-bf31-43d9-a123-9472023d37fa"
      },
      "outputs": [
        {
          "data": {
            "text/plain": [
              "-0.4955838468637849"
            ]
          },
          "execution_count": 29,
          "metadata": {},
          "output_type": "execute_result"
        }
      ],
      "source": [
        "#skewness=3 * (Mean-Median) / Standard Deviation\n",
        "skewness=3 *(before_mean-Before_median)/before_std\n",
        "skewness"
      ]
    },
    {
      "cell_type": "code",
      "execution_count": null,
      "id": "3376d064",
      "metadata": {
        "id": "3376d064",
        "outputId": "1214b752-74ae-4924-a769-d6e400ea2f3f"
      },
      "outputs": [
        {
          "name": "stderr",
          "output_type": "stream",
          "text": [
            "/opt/homebrew/Caskroom/miniforge/base/lib/python3.9/site-packages/scipy/__init__.py:146: UserWarning: A NumPy version >=1.16.5 and <1.23.0 is required for this version of SciPy (detected version 1.23.3\n",
            "  warnings.warn(f\"A NumPy version >={np_minversion} and <{np_maxversion}\"\n"
          ]
        },
        {
          "data": {
            "text/plain": [
              "-1.0264108679339066"
            ]
          },
          "execution_count": 30,
          "metadata": {},
          "output_type": "execute_result"
        }
      ],
      "source": [
        "from scipy.stats import kurtosis\n",
        "column_kurtosis = kurtosis(df_6[' Blood Pressure Before (mmHg)'])\n",
        "column_kurtosis"
      ]
    },
    {
      "cell_type": "markdown",
      "id": "9aa6f698",
      "metadata": {
        "id": "9aa6f698"
      },
      "source": [
        "it is slightly left skewked "
      ]
    },
    {
      "cell_type": "markdown",
      "id": "0618a870",
      "metadata": {
        "id": "0618a870"
      },
      "source": [
        "# Q-7. \n",
        "    The equations of two lines of regression, obtained in a correlation analysis\n",
        "    between variables X and Y are as follows:\n",
        "\n",
        "    and . 2X + 3 − 8 = 0 2Y + X − 5 = 0 The variance of X = 4 Find the\n",
        "    a. Variance of Y\n",
        "    b. Coefficient of determination of C and Y\n",
        "    c. Standard error of estimate of X on Y and of Y on X.\n",
        "\n"
      ]
    },
    {
      "cell_type": "markdown",
      "id": "fdd880dc",
      "metadata": {
        "id": "fdd880dc"
      },
      "source": [
        "Given regression equations:\n",
        "\n",
        "2X + 3 − 8 = 0\n",
        "2Y + X − 5 = 0\n",
        "a. Variance of Y:\n",
        "The variance of Y can be determined by examining the coefficient of X in the second regression equation. From equation (2), we have:\n",
        "2Y + X - 5 = 0\n",
        "2Y = -X + 5\n",
        "Y = (-1/2)X + 5/2\n",
        "\n",
        "Comparing this equation with the standard linear equation Y = bX + a, we can see that the coefficient of X is (-1/2). The variance of Y is the square of this coefficient multiplied by the variance of X.\n",
        "\n",
        "Variance of Y = (-1/2)^2 * 4\n",
        "Variance of Y = 1\n",
        "\n",
        "b. Coefficient of determination (R^2) of X and Y:\n",
        "The coefficient of determination (R^2) is a measure of how well the regression line fits the data. It represents the proportion of the total variation in the dependent variable (Y) that can be explained by the independent variable (X).\n",
        "\n",
        "In this case, the coefficient of determination of X and Y is the square of the correlation coefficient (r). Since the correlation coefficient is not given, we cannot calculate the coefficient of determination.\n",
        "\n",
        "c. Standard error of estimate of X on Y and Y on X:\n",
        "The standard error of estimate measures the average distance between the observed values and the predicted values of the dependent variable (Y) based on the regression line.\n",
        "\n",
        "The standard error of estimate can be calculated using the formula:\n",
        "Standard error of estimate = sqrt((Sum of squared residuals) / (n - 2))\n",
        "\n",
        "To calculate the standard error of estimate of X on Y:\n",
        "We substitute the values of X from the first regression equation into the second equation and calculate the residuals.\n",
        "\n",
        "2(2X + 3) - 8 = 0\n",
        "4X + 6 - 8 = 0\n",
        "4X - 2 = 0\n",
        "4X = 2\n",
        "X = 1/2\n",
        "\n",
        "The residuals are the differences between the observed Y values and the predicted Y values based on the regression line. We calculate the residuals for each observation and square them. Then, we sum up the squared residuals.\n",
        "\n",
        "Residuals:\n",
        "Y(observed) = Y(predicted)\n",
        "Y(observed) = 2(1/2) + 5/2\n",
        "Y(observed) = 1 + 5/2\n",
        "Y(observed) = 7/2\n",
        "\n",
        "Squared residuals:\n",
        "(7/2 - 7/2)^2 = 0\n",
        "\n",
        "Sum of squared residuals = 0\n",
        "\n",
        "Since n is not given, we cannot calculate the standard error of estimate of X on Y.\n",
        "\n",
        "To calculate the standard error of estimate of Y on X:\n",
        "We substitute the values of Y from the second regression equation into the first equation and calculate the residuals.\n",
        "\n",
        "2Y + (2Y + X - 5) - 8 = 0\n",
        "4Y + X - 5 - 8 = 0\n",
        "4Y + X - 13 = 0\n",
        "\n",
        "Residuals:\n",
        "Y(observed) = Y(predicted)\n",
        "Y(observed) = (X - 13)/4\n",
        "\n",
        "Squared residuals:\n",
        "[(X - 13)/4 - (X - 13)/4]^2 = 0\n",
        "\n",
        "Sum of squared residuals = 0"
      ]
    },
    {
      "cell_type": "markdown",
      "id": "4cf24c22",
      "metadata": {
        "id": "4cf24c22"
      },
      "source": [
        "# Q 10.\n",
        "    A factory produces light bulbs, and the probability of a bulb being defective is 0.05. The factory produces a large batch of 500 light bulbs.\n",
        "    a. What is the probability that exactly 20 bulbs are defective?\n",
        "    b. What is the probability that at least 10 bulbs are defective?\n",
        "    c. What is the probability that at max 15 bulbs are defective?\n",
        "    d. On average, how many defective bulbs would you expect in a batch of 500?"
      ]
    },
    {
      "cell_type": "code",
      "execution_count": null,
      "id": "129c516e",
      "metadata": {
        "id": "129c516e",
        "outputId": "0e400b89-caa2-4185-c1b3-4cfa1d74db0e"
      },
      "outputs": [
        {
          "name": "stdout",
          "output_type": "stream",
          "text": [
            "Probability that exactly 20 bulbs are defective: 0.05161619253663997\n"
          ]
        }
      ],
      "source": [
        "# a. Probability that exactly 20 bulbs are defective:\n",
        "# Using the binomial distribution formula, we can calculate the probability as follows:\n",
        "import math\n",
        "\n",
        "def calculate_probability(n, k, p):\n",
        "    # n: total number of trials\n",
        "    # k: number of successful trials\n",
        "    # p: probability of success\n",
        "    \n",
        "    # Calculate the binomial coefficient\n",
        "    coefficient = math.comb(n, k)\n",
        "    \n",
        "    # Calculate the probability\n",
        "    probability = coefficient * (p**k) * ((1-p)**(n-k))\n",
        "    \n",
        "    return probability\n",
        "\n",
        "n = 500  # Total number of bulbs\n",
        "k = 20   # Number of defective bulbs\n",
        "p = 0.05  # Probability of a bulb being defective\n",
        "\n",
        "probability_20_defective = calculate_probability(n, k, p)\n",
        "print(\"Probability that exactly 20 bulbs are defective:\", probability_20_defective)\n"
      ]
    },
    {
      "cell_type": "code",
      "execution_count": null,
      "id": "8fce35f8",
      "metadata": {
        "id": "8fce35f8",
        "outputId": "9ab306d7-6299-4c12-ebcf-2b0caba0fab5"
      },
      "outputs": [
        {
          "name": "stdout",
          "output_type": "stream",
          "text": [
            "Probability that at least 10 bulbs are defective: 0.9998316463654692\n"
          ]
        }
      ],
      "source": [
        "# b\n",
        "probability_at_least_10_defective = sum(calculate_probability(n, i, p) for i in range(10, n+1))\n",
        "print(\"Probability that at least 10 bulbs are defective:\", probability_at_least_10_defective)\n"
      ]
    },
    {
      "cell_type": "code",
      "execution_count": null,
      "id": "84556399",
      "metadata": {
        "id": "84556399",
        "outputId": "ffb33ef9-3a6d-487f-86fa-f702d7104aeb"
      },
      "outputs": [
        {
          "name": "stdout",
          "output_type": "stream",
          "text": [
            "Probability that at most 15 bulbs are defective: 0.019858377163006223\n"
          ]
        }
      ],
      "source": [
        "# c\n",
        "probability_at_most_15_defective = sum(calculate_probability(n, i, p) for i in range(16))\n",
        "print(\"Probability that at most 15 bulbs are defective:\", probability_at_most_15_defective)\n"
      ]
    },
    {
      "cell_type": "code",
      "execution_count": null,
      "id": "79fe39eb",
      "metadata": {
        "id": "79fe39eb",
        "outputId": "e533b281-088a-4944-b8ca-7268619198fb"
      },
      "outputs": [
        {
          "name": "stdout",
          "output_type": "stream",
          "text": [
            "Expected number of defective bulbs: 25.0\n"
          ]
        }
      ],
      "source": [
        "# d\n",
        "expected_defective_bulbs = n * p\n",
        "print(\"Expected number of defective bulbs:\", expected_defective_bulbs)\n"
      ]
    },
    {
      "cell_type": "markdown",
      "id": "882cb680",
      "metadata": {
        "id": "882cb680"
      },
      "source": [
        "# Q 11.\n",
        "    Given the data of a feature contributing to different classes\n",
        "    https://drive.google.com/file/d/1mCjtYHiX--mMUjicuaP2gH3k-SnFxt8Y/view?usp =share_\n",
        "    a. Check whether the distribution of all the classes are the same or not. b. Check for the equality of variance/\n",
        "    c. Which amount LDA and QDA would perform better on this data for classification and why.\n",
        "    d. Check the equality of mean for between all the classes.\n"
      ]
    },
    {
      "cell_type": "code",
      "execution_count": null,
      "id": "28c4d0a6",
      "metadata": {
        "id": "28c4d0a6",
        "outputId": "ad13b86f-7731-44e1-a7a7-c4b8b2a92996"
      },
      "outputs": [
        {
          "name": "stdout",
          "output_type": "stream",
          "text": [
            "Mean values for each class:\n",
            "             Blood Pressure Before (mmHg)  Blood Pressure After (mmHg)\n",
            "Patient ID                                                           \n",
            "1                                  130.0                        120.0\n",
            "2                                  142.0                        135.0\n",
            "3                                  120.0                        118.0\n",
            "4                                  135.0                        127.0\n",
            "5                                  148.0                        140.0\n",
            "...                                  ...                          ...\n",
            "83                                 139.0                        122.0\n",
            "84                                 135.0                        135.0\n",
            "85                                 131.0                        130.0\n",
            "86                                 127.0                        124.0\n",
            "87                                 130.0                        121.0\n",
            "\n",
            "[87 rows x 2 columns]\n",
            "Equality of variance between classes (Bartlett's test):\n",
            "p-value: 0.7285099830801434\n",
            "Equality of mean between classes (ANOVA test):\n",
            "p-value: 1.5913039292502617e-07\n"
          ]
        }
      ],
      "source": [
        "import pandas as pd\n",
        "from scipy import stats\n",
        "\n",
        "# Create a DataFrame from the provided data\n",
        "data = {\n",
        "    'Patient ID': range(1, 88),\n",
        "    'Blood Pressure Before (mmHg)': [130, 142, 120, 135, 148, 122, 137, 130, 142, 128, 135, 140, 132, 145, 124, 128, 136, 143, 127, 139, 135, 131, 127, 130, 142, 128, 136, 140, 132, 145, 124, 128, 136, 143, 127, 139, 135, 131, 127, 130, 128, 136, 140, 132, 145, 124, 128, 136, 143, 127, 139, 135, 131, 127, 130, 142, 128, 136, 140, 132, 145, 124, 128, 136, 143, 127, 139, 135, 131, 127, 130, 142, 128, 136, 140, 132, 145, 124, 128, 136, 143, 127, 139, 135, 131, 127, 130],\n",
        "    'Blood Pressure After (mmHg)':  [120, 135, 118, 127, 140, 118, 129, 124, 137, 125, 129, 132, 125, 136, 118, 122, 130, 139, 123, 132, 131, 126, 120, 123, 139, 122, 129, 136, 127, 140, 119, 121, 129, 137, 122, 135, 130, 125, 121, 124, 122, 129, 135, 131, 125, 141, 118, 121, 129, 137, 122, 135, 130, 124, 121, 124, 139, 123, 131, 136, 127, 141, 118, 121, 129, 137, 122, 135, 130, 124, 121, 124, 139, 123, 131, 136, 127, 141, 118, 121, 129, 137, 122, 135, 130, 124, 121]\n",
        "}\n",
        "\n",
        "df = pd.DataFrame(data)\n",
        "\n",
        "# a. Check whether the distribution of all the classes is the same or not\n",
        "grouped = df.groupby('Patient ID').mean()\n",
        "print(\"Mean values for each class:\\n\", grouped)\n",
        "\n",
        "# b. Check for the equality of variance\n",
        "variance_equal = stats.bartlett(df['Blood Pressure Before (mmHg)'], df['Blood Pressure After (mmHg)'])\n",
        "print(\"Equality of variance between classes (Bartlett's test):\")\n",
        "print(\"p-value:\", variance_equal.pvalue)\n",
        "\n",
        "# c. Which among LDA and QDA would perform better on this data for classification and why\n",
        "# Not enough information is provided to perform LDA or QDA classification\n",
        "\n",
        "# d. Check the equality of mean between all the classes\n",
        "mean_equal = stats.f_oneway(df['Blood Pressure Before (mmHg)'], df['Blood Pressure After (mmHg)'])\n",
        "print(\"Equality of mean between classes (ANOVA test):\")\n",
        "print(\"p-value:\", mean_equal.pvalue)\n"
      ]
    },
    {
      "cell_type": "markdown",
      "id": "ad7d5ead",
      "metadata": {
        "id": "ad7d5ead"
      },
      "source": [
        "# Q 12\n",
        "       A pharmaceutical company develops a new drug and wants to compare its effectiveness against a standard drug for treating a particular condition. They conduct a study with two groups: Group A receives the new drug, and Group B receives the standard drug. The company measures the improvement in a specific symptom for both groups after a 4-week treatment period.\n",
        "    a. The company collects data from 30 patients in each group and calculates the mean improvement score and the standard deviation of improvement for each group. The mean improvement score for Group A is 2.5 with a standard deviation of 0.8, while the mean improvement score for Group B is 2.2 with a standard deviation of 0.6. Conduct a t-test to determine if there is a significant difference in the mean improvement scores between the two groups. Use a significance level of 0.05.\n",
        "    b. Based on the t-test results, state whether the null hypothesis should be rejected or not. Provide a conclusion in the context of the study."
      ]
    },
    {
      "cell_type": "code",
      "execution_count": null,
      "id": "4320677e",
      "metadata": {
        "id": "4320677e",
        "outputId": "f75dc708-38e3-4213-8935-c03681aaa516"
      },
      "outputs": [
        {
          "name": "stdout",
          "output_type": "stream",
          "text": [
            "T-statistic: 1.6431676725154976\n",
            "p-value: 0.10575916705583671\n"
          ]
        }
      ],
      "source": [
        "# 1 Perform t test\n",
        "import scipy.stats as stats\n",
        "\n",
        "# Sample size for each group\n",
        "n_a = 30\n",
        "n_b = 30\n",
        "\n",
        "# Mean improvement scores\n",
        "mean_a = 2.5\n",
        "mean_b = 2.2\n",
        "\n",
        "# Standard deviations\n",
        "std_a = 0.8\n",
        "std_b = 0.6\n",
        "\n",
        "# Perform independent t-test\n",
        "t_stat, p_value = stats.ttest_ind_from_stats(mean_a, std_a, n_a, mean_b, std_b, n_b)\n",
        "\n",
        "# Print t-test results\n",
        "print(\"T-statistic:\", t_stat)\n",
        "print(\"p-value:\", p_value)\n"
      ]
    },
    {
      "cell_type": "code",
      "execution_count": null,
      "id": "5b6e5195",
      "metadata": {
        "id": "5b6e5195",
        "outputId": "e4f04bee-182c-458e-88f8-5b08c4066409"
      },
      "outputs": [
        {
          "name": "stdout",
          "output_type": "stream",
          "text": [
            "Fail to reject the null hypothesis\n",
            "There is no significant difference in the mean improvement scores between Group A and Group B.\n"
          ]
        }
      ],
      "source": [
        "# Interpret the result\n",
        "# Compare p-value with significance level (e.g., 0.05)\n",
        "alpha = 0.05\n",
        "if p_value < alpha:\n",
        "    print(\"Reject the null hypothesis\")\n",
        "    print(\"There is a significant difference in the mean improvement scores between Group A and Group B.\")\n",
        "else:\n",
        "    print(\"Fail to reject the null hypothesis\")\n",
        "    print(\"There is no significant difference in the mean improvement scores between Group A and Group B.\")\n"
      ]
    },
    {
      "cell_type": "code",
      "execution_count": null,
      "id": "77cb5140",
      "metadata": {
        "id": "77cb5140"
      },
      "outputs": [],
      "source": []
    }
  ],
  "metadata": {
    "kernelspec": {
      "display_name": "Python 3 (ipykernel)",
      "language": "python",
      "name": "python3"
    },
    "language_info": {
      "codemirror_mode": {
        "name": "ipython",
        "version": 3
      },
      "file_extension": ".py",
      "mimetype": "text/x-python",
      "name": "python",
      "nbconvert_exporter": "python",
      "pygments_lexer": "ipython3",
      "version": "3.9.7"
    },
    "colab": {
      "provenance": []
    }
  },
  "nbformat": 4,
  "nbformat_minor": 5
}